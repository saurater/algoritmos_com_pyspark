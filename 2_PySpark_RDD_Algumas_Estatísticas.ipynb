{
  "nbformat": 4,
  "nbformat_minor": 0,
  "metadata": {
    "colab": {
      "name": "2. PySpark RDD - Algumas Estatísticas.ipynb",
      "provenance": [],
      "authorship_tag": "ABX9TyPh3NQTlt3ukmGeAjUPUPrW",
      "include_colab_link": true
    },
    "kernelspec": {
      "name": "python3",
      "display_name": "Python 3"
    },
    "language_info": {
      "name": "python"
    }
  },
  "cells": [
    {
      "cell_type": "markdown",
      "metadata": {
        "id": "view-in-github",
        "colab_type": "text"
      },
      "source": [
        "<a href=\"https://colab.research.google.com/github/saurater/algoritmos_com_pyspark/blob/main/2_PySpark_RDD_Algumas_Estat%C3%ADsticas.ipynb\" target=\"_parent\"><img src=\"https://colab.research.google.com/assets/colab-badge.svg\" alt=\"Open In Colab\"/></a>"
      ]
    },
    {
      "cell_type": "code",
      "source": [
        "pip install pyspark"
      ],
      "metadata": {
        "id": "v8lGw7Epttzu"
      },
      "execution_count": null,
      "outputs": []
    },
    {
      "cell_type": "code",
      "execution_count": null,
      "metadata": {
        "id": "FQlPCVCktoqc"
      },
      "outputs": [],
      "source": [
        "from __future__ import print_function\n",
        "\n",
        "import sys\n",
        "from operator import add\n",
        "\n",
        "from pyspark.sql import SparkSession\n",
        "#-----------------------------------\n",
        "# author Mahmoud Parsian\n",
        "#-----------------------------------\n",
        "### The compute_stats function accepts a list of \n",
        "### frequencies (as numbers) and computes three values: \n",
        "###    1) average \n",
        "###    2) median \n",
        "###    3) standard deviation\n",
        "#\n",
        "import statistics # 1\n",
        "# frequencies = [number1, number2, ...]\n",
        "# <1> this module provides functions for calculating mathematical statistics of numeric data\n",
        "# <2> accept a list of frequencies\n",
        "# <3> compute average of frequencies\n",
        "# <4> compute median of frequencies\n",
        "# <5> compute standard deviation of frequencies\n",
        "#\n",
        "def compute_stats(frequencies): # <2>\n",
        "    average = round(statistics.mean(frequencies))  # <3>\n",
        "    median = round(statistics.median(frequencies)) # <4>\n",
        "    standard_deviation = round(statistics.stdev(frequencies)) # <5>\n",
        "    return (average, median, standard_deviation) # <6>\n",
        "#end-def\n",
        "#-----------------------------------\n",
        "# record: <url_address><,><frequency>\n",
        "# <1> accept a record of the form \"URL-address,frequency\"\n",
        "# <2> tokenize input record, tokens[0]: URL-address (as key), tokens[1]: frequency (as value)\n",
        "# <3> return a pair of (URL-address, frequency)\n",
        "#\n",
        "def create_pair(record):  # <1>\n",
        "    tokens = record.split(',')  # <2>\n",
        "    url_address = tokens[0]\n",
        "    frequency = int(tokens[1])\n",
        "    return (url_address, frequency)  # <3>\n",
        "#end-def\n",
        "#-----------------------------------\n",
        "\n",
        "\n",
        "if __name__ == \"__main__\":\n",
        "    #if len(sys.argv) != 2:\n",
        "    #    print(\"Usage: compute_stats <file>\", file=sys.stderr)\n",
        "    #    exit(-1)\n",
        "        \n",
        "    #------------------------------------------\n",
        "    # create an instance of SparkSession object\n",
        "    #------------------------------------------\n",
        "    spark = SparkSession\\\n",
        "        .builder\\\n",
        "        .appName(\"compute_stats\")\\\n",
        "        .getOrCreate()\n",
        "\n",
        "    input_path = \"frequencias.txt\" #sys.argv[1]\n",
        "    print(\"input path : \", input_path)\n",
        "\n",
        "\n",
        "    results = spark\\\n",
        "        .sparkContext\\\n",
        "        .textFile(input_path)\\\n",
        "        .filter(lambda record: len(record) > 5)\\\n",
        "        .map(create_pair)\\\n",
        "        .groupByKey()\\\n",
        "        .mapValues(compute_stats)\n",
        "    \n",
        "    # display final results\n",
        "    print(\"results = \", results.collect())\n",
        "\n",
        "    spark.stop()"
      ]
    }
  ]
}